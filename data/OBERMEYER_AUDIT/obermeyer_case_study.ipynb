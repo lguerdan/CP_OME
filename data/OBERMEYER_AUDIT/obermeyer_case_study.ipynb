{
 "cells": [
  {
   "cell_type": "code",
   "execution_count": 31,
   "id": "f999a992",
   "metadata": {},
   "outputs": [],
   "source": [
    "import numpy as np\n",
    "import pandas as pd\n",
    "pd.options.display.float_format = \"{:,.2f}\".format\n",
    "from tabulate import tabulate"
   ]
  },
  {
   "cell_type": "code",
   "execution_count": 32,
   "id": "6ada9516",
   "metadata": {},
   "outputs": [],
   "source": [
    "\n",
    "# Download from: https://gitlab.com/labsysmed/dissecting-bias/-/blob/master/data/data_new.csv\n",
    "syn_df = pd.read_csv('data/data_new.csv')[['cost_t', 'gagne_sum_t', 'program_enrolled_t']]\n",
    "\n",
    "# Results of re-applying synpop on synthetic data preserved by Obermeyer et al. \n",
    "syn_syn_df = pd.read_csv('mysyn.csv.csv')"
   ]
  },
  {
   "cell_type": "markdown",
   "id": "199398f3",
   "metadata": {},
   "source": [
    "## Compute treatment-conditional error rates on data provided by Obermeyer et al and re-synthesized data "
   ]
  },
  {
   "cell_type": "code",
   "execution_count": 35,
   "id": "cb7f5934",
   "metadata": {},
   "outputs": [
    {
     "name": "stdout",
     "output_type": "stream",
     "text": [
      "\\begin{tabular}{rlrrr}\n",
      "\\hline\n",
      "    & Population      &   FPR &   FNR &     N \\\\\n",
      "\\hline\n",
      "  0 & Full population &  0.37 &  0.38 & 48784 \\\\\n",
      "  1 & Unenrolled      &  0.37 &  0.39 & 48332 \\\\\n",
      "  2 & Enrolled        &  0.64 &  0.13 &   452 \\\\\n",
      "\\hline\n",
      "\\end{tabular}\n",
      "\\begin{tabular}{rlrrr}\n",
      "\\hline\n",
      "    & Population      &   FPR &   FNR &     N \\\\\n",
      "\\hline\n",
      "  0 & Full population &  0.36 &  0.39 & 48784 \\\\\n",
      "  1 & Unenrolled      &  0.36 &  0.39 & 48360 \\\\\n",
      "  2 & Enrolled        &  0.65 &  0.14 &   424 \\\\\n",
      "\\hline\n",
      "\\end{tabular}\n"
     ]
    }
   ],
   "source": [
    "get_enrollment_conditional_rates(syn_df, cuttoff=.55)\n",
    "get_enrollment_conditional_rates(syn_syn_df, cuttoff=.55)"
   ]
  },
  {
   "cell_type": "code",
   "execution_count": 34,
   "id": "f536d420",
   "metadata": {},
   "outputs": [],
   "source": [
    "def FNR(a, b):\n",
    "    return ((a == False) & (b == True)).sum() / (b == True).sum()\n",
    "\n",
    "def FPR(a, b):\n",
    "    return ((a == True) & (b == False)).sum() / (b == False).sum()\n",
    "\n",
    "def get_enrollment_conditional_rates(healthdf, cuttoff=.55):\n",
    "\n",
    "    acceptance_cuttoff = .55 # Physician referral cutoff\n",
    "    proxy = 'total_cost'\n",
    "\n",
    "    cost_screen_in = healthdf['cost_t'] > np.quantile(healthdf['cost_t'], acceptance_cuttoff)\n",
    "    health_screen_in = healthdf['gagne_sum_t'] > np.quantile(healthdf['gagne_sum_t'], acceptance_cuttoff)\n",
    "\n",
    "    outcome_df = pd.concat([cost_screen_in, health_screen_in, healthdf['program_enrolled_t']], axis=1)\n",
    "    outcome_df.rename(columns={\n",
    "                'cost_t': 'total_cost',\n",
    "                 'gagne_sum_t': 'health',\n",
    "                 'program_enrolled_t': 'enrolled'\n",
    "                }, inplace=True)\n",
    "\n",
    "    control = outcome_df[outcome_df['enrolled'] == 0]\n",
    "    treatment = outcome_df[outcome_df['enrolled'] == 1]\n",
    "    obs = outcome_df\n",
    "\n",
    "    obs_fpr = FPR(obs[proxy], obs[\"health\"])\n",
    "    obs_fnr = FNR(obs[proxy], obs[\"health\"])\n",
    "\n",
    "    control_fpr = FPR(control[proxy], control[\"health\"])\n",
    "    control_fnr = FNR(control[proxy], control[\"health\"])\n",
    "\n",
    "    treatment_fpr = FPR(treatment[proxy], treatment[\"health\"])\n",
    "    treatment_fnr = FNR(treatment[proxy], treatment[\"health\"])\n",
    "\n",
    "    obs_conditions = healthdf['gagne_sum_t'].mean()\n",
    "    control_conditions = healthdf['gagne_sum_t'][healthdf['program_enrolled_t'] == 0].mean()\n",
    "    treatment_conditions = healthdf['gagne_sum_t'][healthdf['program_enrolled_t'] == 1].mean()\n",
    "\n",
    "    obs_cost = healthdf['cost_t'].mean()\n",
    "    control_cost = healthdf['cost_t'][healthdf['program_enrolled_t'] == 0].mean()\n",
    "    treatment_cost = healthdf['cost_t'][healthdf['program_enrolled_t'] == 1].mean()\n",
    "\n",
    "    proxy_metrics = pd.DataFrame({\n",
    "        'Population': ['Full population', 'Unenrolled', 'Enrolled'],\n",
    "        'FPR': [obs_fpr, control_fpr, treatment_fpr],\n",
    "        'FNR': [obs_fnr, control_fnr, treatment_fnr],\n",
    "        'N': [healthdf.shape[0],(healthdf['program_enrolled_t'] == 0).sum(), (healthdf['program_enrolled_t'] == 1).sum()]\n",
    "    })\n",
    "\n",
    "    print(tabulate(proxy_metrics, headers = 'keys', tablefmt = 'latex', floatfmt=\".2f\"))\n"
   ]
  },
  {
   "cell_type": "code",
   "execution_count": null,
   "id": "abdef554",
   "metadata": {},
   "outputs": [],
   "source": []
  }
 ],
 "metadata": {
  "kernelspec": {
   "display_name": "TCOME",
   "language": "python",
   "name": "tcome"
  },
  "language_info": {
   "codemirror_mode": {
    "name": "ipython",
    "version": 3
   },
   "file_extension": ".py",
   "mimetype": "text/x-python",
   "name": "python",
   "nbconvert_exporter": "python",
   "pygments_lexer": "ipython3",
   "version": "3.9.8"
  }
 },
 "nbformat": 4,
 "nbformat_minor": 5
}
